{
 "cells": [
  {
   "cell_type": "code",
   "execution_count": 125,
   "id": "f90b85b7-8104-4430-9421-0e71306d14dc",
   "metadata": {},
   "outputs": [],
   "source": [
    "import pandas as pd\n",
    "import numpy as np\n",
    "from sklearn.ensemble import RandomForestRegressor\n",
    "from sklearn.decomposition import PCA\n",
    "from sklearn.preprocessing import StandardScaler, PolynomialFeatures, OneHotEncoder\n",
    "from sklearn.impute import SimpleImputer"
   ]
  },
  {
   "cell_type": "code",
   "execution_count": 127,
   "id": "9a6a1361-7fd8-417d-a24a-d33c77f9e02c",
   "metadata": {},
   "outputs": [],
   "source": [
    "# Load the dataset\n",
    "housing_data = pd.read_csv(\"housing_data.csv\")"
   ]
  },
  {
   "cell_type": "code",
   "execution_count": 129,
   "id": "e2bda092-35f2-4575-90ea-4df348ffffba",
   "metadata": {},
   "outputs": [
    {
     "name": "stdout",
     "output_type": "stream",
     "text": [
      "Initial Data Shape: (1460, 80)\n",
      "  MSSubClass MSZoning  LotFrontage  LotArea Street Alley LotShape LandContour  \\\n",
      "0       SC60       RL           65     8450   Pave   NaN      Reg         Lvl   \n",
      "1       SC20       RL           80     9600   Pave   NaN      Reg         Lvl   \n",
      "2       SC60       RL           68    11250   Pave   NaN      IR1         Lvl   \n",
      "3       SC70       RL           60     9550   Pave   NaN      IR1         Lvl   \n",
      "4       SC60       RL           84    14260   Pave   NaN      IR1         Lvl   \n",
      "\n",
      "  Utilities LotConfig  ... PoolArea PoolQC Fence MiscFeature MiscVal MoSold  \\\n",
      "0    AllPub    Inside  ...        0     No    No          No       0    Feb   \n",
      "1    AllPub       FR2  ...        0     No    No          No       0    May   \n",
      "2    AllPub    Inside  ...        0     No    No          No       0    Sep   \n",
      "3    AllPub    Corner  ...        0     No    No          No       0    Feb   \n",
      "4    AllPub       FR2  ...        0     No    No          No       0    Dec   \n",
      "\n",
      "   YrSold  SaleType  SaleCondition  SalePrice  \n",
      "0    2008        WD         Normal     208500  \n",
      "1    2007        WD         Normal     181500  \n",
      "2    2008        WD         Normal     223500  \n",
      "3    2006        WD        Abnorml     140000  \n",
      "4    2008        WD         Normal     250000  \n",
      "\n",
      "[5 rows x 80 columns]\n"
     ]
    }
   ],
   "source": [
    "# Display initial dataset information\n",
    "print(\"Initial Data Shape:\", housing_data.shape)\n",
    "print(housing_data.head())"
   ]
  },
  {
   "cell_type": "code",
   "execution_count": 155,
   "id": "174cf983-a3ce-4247-91b6-c0b0290d59a0",
   "metadata": {},
   "outputs": [],
   "source": [
    "# Identify numerical and categorical columns\n",
    "numeric_columns = housing_data.select_dtypes(include=['int64', 'float64']).columns\n",
    "categorical_columns = housing_data.select_dtypes(include=['object']).columns"
   ]
  },
  {
   "cell_type": "code",
   "execution_count": 160,
   "id": "9202bbbe-0195-4bee-9c3e-9b22d5ade720",
   "metadata": {},
   "outputs": [],
   "source": [
    "#Impute missing values in numerical columns with the median\n",
    "num_imputer = SimpleImputer(strategy='median')\n",
    "housing_data[numeric_columns] = num_imputer.fit_transform(housing_data[numeric_columns])\n",
    "\n",
    "#Impute missing values in categorical columns with the mode\n",
    "cat_imputer = SimpleImputer(strategy='most_frequent')\n",
    "housing_data[categorical_columns] = cat_imputer.fit_transform(housing_data[categorical_columns])"
   ]
  },
  {
   "cell_type": "markdown",
   "id": "025b87fa-f335-427a-8a72-48e57775cd54",
   "metadata": {},
   "source": [
    "# Create New Features"
   ]
  },
  {
   "cell_type": "code",
   "execution_count": 131,
   "id": "42830c3e-a187-4acb-8e7e-a1ee65458dee",
   "metadata": {},
   "outputs": [],
   "source": [
    "# 1. Total Square Footage Feature\n",
    "housing_data['TotalSF'] = housing_data[['TotalBsmtSF', '1stFlrSF', '2ndFlrSF']].sum(axis=1)"
   ]
  },
  {
   "cell_type": "code",
   "execution_count": 133,
   "id": "0040c7e7-ebba-43bf-9c15-bf10b9cb646c",
   "metadata": {},
   "outputs": [],
   "source": [
    "# 2. House Age Feature\n",
    "current_year = 2024\n",
    "housing_data['HouseAge'] = current_year - housing_data['YearBuilt']"
   ]
  },
  {
   "cell_type": "code",
   "execution_count": 139,
   "id": "6e16ad46-a988-48f9-b82d-c6f5eb0c5c51",
   "metadata": {},
   "outputs": [],
   "source": [
    "# 3. Binning House Age into Categories\n",
    "bins = [0, 10, 20, 30, 40, np.inf]\n",
    "labels = ['0-10', '11-20', '21-30', '31-40', '40+']\n",
    "housing_data['HouseAgeGroup'] = pd.cut(housing_data['HouseAge'], bins=bins, labels=labels)"
   ]
  },
  {
   "cell_type": "code",
   "execution_count": 145,
   "id": "92625152-98a7-49b6-bf08-2c03f655d98a",
   "metadata": {},
   "outputs": [],
   "source": [
    "# 4. One-Hot Encoding for 'Neighborhood' Feature\n",
    "encoder = OneHotEncoder(sparse_output=False, drop='first')  # Avoiding dummy variable trap\n",
    "encoded_neighborhood = encoder.fit_transform(housing_data[['Neighborhood']])\n",
    "neighborhood_df = pd.DataFrame(encoded_neighborhood, columns=encoder.get_feature_names_out(['Neighborhood']))\n",
    "housing_data = pd.concat([housing_data, neighborhood_df], axis=1)"
   ]
  },
  {
   "cell_type": "code",
   "execution_count": 147,
   "id": "6c2d8f5a-6e0b-40c0-b00d-ad78ec0e6564",
   "metadata": {},
   "outputs": [],
   "source": [
    "# 5. Interaction Feature: Overall Quality × Living Area\n",
    "housing_data['OverallQual_GrLivArea'] = housing_data['OverallQual'] * housing_data['GrLivArea']"
   ]
  },
  {
   "cell_type": "code",
   "execution_count": 149,
   "id": "ffbd57ad-d44f-431d-a702-fb8d81519dfd",
   "metadata": {},
   "outputs": [],
   "source": [
    "#Log Transformation of 'SalePrice'\n",
    "housing_data['LogSalePrice'] = np.log1p(housing_data['SalePrice'])"
   ]
  },
  {
   "cell_type": "markdown",
   "id": "7ae848ea-2f7a-43f4-ab6e-e059337ee46e",
   "metadata": {},
   "source": [
    "# **Feature Aggregation**"
   ]
  },
  {
   "cell_type": "code",
   "execution_count": 151,
   "id": "51e80825-ff9a-43be-a678-d2b8d9f09eb7",
   "metadata": {},
   "outputs": [],
   "source": [
    " # Aggregating Numerical Features\n",
    "housing_data['TotalSF'] = housing_data[['TotalBsmtSF', '1stFlrSF', '2ndFlrSF']].sum(axis=1)\n",
    "\n",
    "#  Aggregating Categorical Features\n",
    "housing_data['AllNeighborhoods'] = housing_data[['Neighborhood', 'Condition1', 'Condition2']].astype(str).agg('_'.join, axis=1)\n",
    "# Aggregating by 'MasVnrArea'\n",
    "data_aggregated = housing_data.groupby('MasVnrArea').agg({'LotFrontage': 'mean', 'LotArea': 'count'}).reset_index()"
   ]
  },
  {
   "cell_type": "markdown",
   "id": "c5dad492-efa3-4c89-8eea-4b14063da0bd",
   "metadata": {},
   "source": [
    "# Handling Missing Values"
   ]
  },
  {
   "cell_type": "code",
   "execution_count": 164,
   "id": "3489768f-fef1-457d-969d-01f066fca515",
   "metadata": {},
   "outputs": [],
   "source": [
    "#Impute missing values in numerical columns with the median\n",
    "num_imputer = SimpleImputer(strategy='median')\n",
    "housing_data[numeric_columns] = num_imputer.fit_transform(housing_data[numeric_columns])\n",
    "\n",
    "#Impute missing values in categorical columns with the mode\n",
    "cat_imputer = SimpleImputer(strategy='most_frequent')\n",
    "housing_data[categorical_columns] = cat_imputer.fit_transform(housing_data[categorical_columns])"
   ]
  },
  {
   "cell_type": "code",
   "execution_count": 166,
   "id": "836f8660-42be-46f3-ab7c-bdcc1275a2f5",
   "metadata": {},
   "outputs": [
    {
     "name": "stdout",
     "output_type": "stream",
     "text": [
      "Missing values handled successfully!\n",
      "MSSubClass              0\n",
      "MSZoning                0\n",
      "LotFrontage             0\n",
      "LotArea                 0\n",
      "Street                  0\n",
      "                       ..\n",
      "Neighborhood_SawyerW    0\n",
      "Neighborhood_Somerst    0\n",
      "Neighborhood_StoneBr    0\n",
      "Neighborhood_Timber     0\n",
      "Neighborhood_Veenker    0\n",
      "Length: 182, dtype: int64\n"
     ]
    }
   ],
   "source": [
    "# Print confirmation\n",
    "print(\"Missing values handled successfully!\")\n",
    "print(housing_data.isnull().sum())  # Verify no missing values remain"
   ]
  },
  {
   "cell_type": "code",
   "execution_count": 170,
   "id": "321d8ce5-48cd-4b7c-8ec8-e82c5d466a14",
   "metadata": {},
   "outputs": [],
   "source": [
    "# Drop any remaining missing values\n",
    "housing_data.dropna(inplace=True)\n"
   ]
  },
  {
   "cell_type": "code",
   "execution_count": 174,
   "id": "480960cb-b7b3-43b0-aa8c-803e877dd61f",
   "metadata": {},
   "outputs": [],
   "source": [
    "#Feature Scaling\n",
    "scaler = StandardScaler()\n",
    "scaled_features = scaler.fit_transform(housing_data.select_dtypes(include=['number']))"
   ]
  },
  {
   "cell_type": "code",
   "execution_count": 176,
   "id": "0fb20156-9cbf-454c-9c53-e4c2a4b3a408",
   "metadata": {},
   "outputs": [],
   "source": [
    "#Dimensionality Reduction using PCA\n",
    "pca = PCA(n_components=5)  # Reduce to 5 principal components\n",
    "data_pca = pca.fit_transform(scaled_features)"
   ]
  },
  {
   "cell_type": "code",
   "execution_count": 178,
   "id": "f98cbc1e-9678-40bd-94da-62e68c6a5294",
   "metadata": {},
   "outputs": [],
   "source": [
    "#Polynomial Feature Interactions\n",
    "poly = PolynomialFeatures(degree=2, interaction_only=True)\n",
    "data_interactions = poly.fit_transform(housing_data[['YearRemodAdd']])"
   ]
  },
  {
   "cell_type": "code",
   "execution_count": 186,
   "id": "cf6d9b93-64ef-4544-9d3b-f63f1342af46",
   "metadata": {},
   "outputs": [
    {
     "name": "stdout",
     "output_type": "stream",
     "text": [
      "Final Data Shape: (1460, 182)\n",
      "Final Data Sample:\n",
      "  MSSubClass MSZoning  LotFrontage  LotArea Street Alley LotShape LandContour  \\\n",
      "0       SC60       RL         65.0   8450.0   Pave  Grvl      Reg         Lvl   \n",
      "1       SC20       RL         80.0   9600.0   Pave  Grvl      Reg         Lvl   \n",
      "2       SC60       RL         68.0  11250.0   Pave  Grvl      IR1         Lvl   \n",
      "3       SC70       RL         60.0   9550.0   Pave  Grvl      IR1         Lvl   \n",
      "4       SC60       RL         84.0  14260.0   Pave  Grvl      IR1         Lvl   \n",
      "\n",
      "  Utilities LotConfig  ... Neighborhood_NoRidge Neighborhood_NridgHt  \\\n",
      "0    AllPub    Inside  ...                  0.0                  0.0   \n",
      "1    AllPub       FR2  ...                  0.0                  0.0   \n",
      "2    AllPub    Inside  ...                  0.0                  0.0   \n",
      "3    AllPub    Corner  ...                  0.0                  0.0   \n",
      "4    AllPub       FR2  ...                  1.0                  0.0   \n",
      "\n",
      "  Neighborhood_OldTown Neighborhood_SWISU Neighborhood_Sawyer  \\\n",
      "0                  0.0                0.0                 0.0   \n",
      "1                  0.0                0.0                 0.0   \n",
      "2                  0.0                0.0                 0.0   \n",
      "3                  0.0                0.0                 0.0   \n",
      "4                  0.0                0.0                 0.0   \n",
      "\n",
      "  Neighborhood_SawyerW  Neighborhood_Somerst  Neighborhood_StoneBr  \\\n",
      "0                  0.0                   0.0                   0.0   \n",
      "1                  0.0                   0.0                   0.0   \n",
      "2                  0.0                   0.0                   0.0   \n",
      "3                  0.0                   0.0                   0.0   \n",
      "4                  0.0                   0.0                   0.0   \n",
      "\n",
      "   Neighborhood_Timber  Neighborhood_Veenker  \n",
      "0                  0.0                   0.0  \n",
      "1                  0.0                   1.0  \n",
      "2                  0.0                   0.0  \n",
      "3                  0.0                   0.0  \n",
      "4                  0.0                   0.0  \n",
      "\n",
      "[5 rows x 182 columns]\n"
     ]
    }
   ],
   "source": [
    "#Final Data \n",
    "print(\"Final Data Shape:\", housing_data.shape)\n",
    "print(\"Final Data Sample:\")\n",
    "print(housing_data.head())"
   ]
  },
  {
   "cell_type": "code",
   "execution_count": 184,
   "id": "32ad47d0-3fbb-42a7-a1b8-1b2244f63dc1",
   "metadata": {},
   "outputs": [],
   "source": [
    "housing_data.to_csv(\"housing_data1.csv\", index=False)"
   ]
  }
 ],
 "metadata": {
  "kernelspec": {
   "display_name": "Python 3 (ipykernel)",
   "language": "python",
   "name": "python3"
  },
  "language_info": {
   "codemirror_mode": {
    "name": "ipython",
    "version": 3
   },
   "file_extension": ".py",
   "mimetype": "text/x-python",
   "name": "python",
   "nbconvert_exporter": "python",
   "pygments_lexer": "ipython3",
   "version": "3.12.4"
  }
 },
 "nbformat": 4,
 "nbformat_minor": 5
}
